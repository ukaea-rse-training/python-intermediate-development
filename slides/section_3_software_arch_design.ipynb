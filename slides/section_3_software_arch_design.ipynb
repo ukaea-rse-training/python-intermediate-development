{
 "cells": [
  {
   "cell_type": "markdown",
   "id": "8f4f88a1",
   "metadata": {
    "slideshow": {
     "slide_type": "slide"
    }
   },
   "source": [
    "# Section 3: Software Architecture and Design\n",
    "\n",
    "</br>\n",
    "</br>\n",
    "<center><img src=\"../fig/section3-overview.png\" width=\"70%\"></center>"
   ]
  },
  {
   "cell_type": "markdown",
   "id": "bde031f2",
   "metadata": {
    "slideshow": {
     "slide_type": "notes"
    }
   },
   "source": [
    "- There is a lot bundled in here\n",
    "- We are again going to step up a level and look at the overall architecture of programs and how the different components interact. In contrast to our earlier discussion about architecture, we will be getting a bit more hands-on this time around now that we have had some experience with our project.\n",
    "- We will be looking at some important design paradigms like Object Oriented and Functional Programming\n",
    "- We will also look at tying up the MVA implementation of our example project"
   ]
  },
  {
   "cell_type": "markdown",
   "id": "615283f5",
   "metadata": {
    "slideshow": {
     "slide_type": "slide"
    }
   },
   "source": [
    "## Programming Paradigms\n",
    "\n",
    "<center><img src=\"../fig/paradigms.png\" width=\"70%\"></center>\n",
    "\n",
    "> Modified from _Davis, Daniel. 2013. “Modelled on Software Engineering: Flexible Parametric Models in the Practice of Architecture.” PhD dissertation, RMIT University._"
   ]
  },
  {
   "cell_type": "markdown",
   "id": "ba469861",
   "metadata": {
    "slideshow": {
     "slide_type": "notes"
    }
   },
   "source": [
    "- This section is going to be a bit of theory before we get back to more concrete programming, but it is important to have a conceptual view of the options available to us when solving problems, because the language we choose will have an influence upon this.\n",
    "- Different languages apply different programming paradigms, which give us different tools for how we can structure and design our code.\n",
    "- The primary divide is between _Imperative_ and _Declarative_ languages\n",
    "- Poll the learners with stickies or Zoom reactions with the question: \"Have you heard the terms _paradigm_, _declarative_, and _imperative_ before in relation to programming?\"\n",
    "  - If a large number have, then ask the follow up: \"Do you have a good grasp of the meaning of these terms and the practical differences between imperative and declarative programming?\"\n",
    "  - If the majority answer in the affirmative, it is fine to skip to the FizzBuzz exercise\n",
    "  - Otherwise, give a brief description of imperative vs declarative, and then get the group to read through the section.\n",
    "- Imperative: grammatically, an imperative statement is an order or instruction\n",
    "  - e.g. \"get me a soda\", \"got to the shop\", \"do this important task\"\n",
    "  - this can readily be applied to our relationship to a computer through a programming language, in which we give it instructions\n",
    "  - e.g. \"for all the elements in this list, add the value of each to this sum\", \"if the value is greater than 10, add it to the sum\", etc.\n",
    "  - This is likely the paradigm of programming we are all most familiar with\n",
    "- Declarative: grammatically, a declarative sentence is a statement of fact or opinion. It is a description.\n",
    "  - e.g. \"the quick brown fox jumps over the lazy dog\", \"I don't understand functional programming\"\n",
    "  - it is less obvious how this can be used when interacting with computers\n",
    "  - The idea of applying a declarative paradigm in programming is that we describe _what_ we want the program to do, rather than _how_ it should do it\n",
    "  - implementation details (i.e. the _how_) are left to lower level features of the language\n",
    "  - if anyone has every used a query language like SQL before, this will make a lot more sense\n",
    "- It is worth a note that Python is a multi-paradigm language\n",
    "  - it borrows elements from OO, functional, and procedural paradigms\n",
    "  - you can write programs that are a mix of these paradigms, or more strictly stick to one, it is up to you (which can be both a good and bad thing)\n",
    "  - more likely, you will write something where Python objects (so OO) are treated like data which is processed in a functional style\n",
    "- It is pretty hard to get a grasp of these concepts without practical concrete examples, so let's move along to the exercise on this page."
   ]
  },
  {
   "cell_type": "markdown",
   "id": "2839f323",
   "metadata": {
    "slideshow": {
     "slide_type": "subslide"
    }
   },
   "source": [
    "### Breakout Exercise: 🖉 1, 2, Fizz, 4, Buzz ... FizzBuzz\n",
    "\n",
    "Start from this section heading and go to the end of the page."
   ]
  },
  {
   "cell_type": "markdown",
   "id": "e736019d",
   "metadata": {
    "slideshow": {
     "slide_type": "notes"
    }
   },
   "source": [
    "- Send learners off to do exercises:\n",
    "- If learners need time to read through the content about paradigms (based on questions above), then give an additional 10 minutes to do that\n",
    "- Allow about 5 minutes for the FizzBuzz exercise"
   ]
  },
  {
   "cell_type": "markdown",
   "id": "50fb1b17",
   "metadata": {
    "slideshow": {
     "slide_type": "subslide"
    }
   },
   "source": [
    "### FizzBuzz across Paradigms and Languages\n",
    "\n",
    "#### R (declarative, functional)\n",
    "```r\n",
    "xx <- x <- 1:100\n",
    "xx[x %% 3 == 0] <- \"Fizz\"\n",
    "xx[x %% 5 == 0] <- \"Buzz\"\n",
    "xx[x %% 15 == 0] <- \"FizzBuzz\"\n",
    "xx\n",
    "```"
   ]
  },
  {
   "cell_type": "markdown",
   "id": "6a4c9601",
   "metadata": {
    "slideshow": {
     "slide_type": "subslide"
    }
   },
   "source": [
    "#### C (imperative, procedural)\n",
    "```cpp\n",
    "#include<stdio.h>\n",
    " \n",
    "int main (void)\n",
    "{\n",
    "    int i;\n",
    "    for (i = 1; i <= 100; i++)\n",
    "    {\n",
    "        if (!(i % 15))\n",
    "            printf (\"FizzBuzz\");\n",
    "        else if (!(i % 3))\n",
    "            printf (\"Fizz\");\n",
    "        else if (!(i % 5))\n",
    "            printf (\"Buzz\");\n",
    "        else\n",
    "            printf (\"%d\", i);\n",
    " \n",
    "        printf(\"\\n\");\n",
    "    }\n",
    "    return 0;\n",
    "}\n",
    "```"
   ]
  },
  {
   "cell_type": "markdown",
   "id": "03c7d054",
   "metadata": {
    "slideshow": {
     "slide_type": "notes"
    }
   },
   "source": [
    "- The R example isn't strictly functional, but it gets the point across about a very _declarative_ approach to computing (and elegant and concise)\n",
    "  - no need for bulky `if` and `for` statements\n",
    "  - the Python version of this doesn't quite get the elegance and clarity that this one does\n",
    "- It is also worth noting that a lot of numpy syntax can become quite declarative and functional in its style."
   ]
  },
  {
   "cell_type": "markdown",
   "id": "52e9edc9",
   "metadata": {
    "slideshow": {
     "slide_type": "slide"
    }
   },
   "source": [
    "## Object Oriented Programming"
   ]
  },
  {
   "cell_type": "markdown",
   "id": "39d5afb9",
   "metadata": {
    "slideshow": {
     "slide_type": "notes"
    }
   },
   "source": [
    "- the idea behind object-oriented programming to bundle data and methods together to represent objects\n",
    "  - this can be very intuitive, because we are used to working with objects in real life, and sometimes our software objects correspond quite closely to a real world object\n",
    "- the more technical term for this is encapsulation, but not overly important to know that\n",
    "- at the end of the day, we are again trying to create a well-defined _interface_ for how to interact with these objects / software components"
   ]
  },
  {
   "cell_type": "markdown",
   "id": "1cf12b86",
   "metadata": {
    "slideshow": {
     "slide_type": "subslide"
    }
   },
   "source": [
    "### Decorators\n",
    "\n",
    "Decorators are _syntactic sugar_ for the case where we want to wrap a function with another function:\n",
    "\n",
    "```python\n",
    "def my_decorator(func):\n",
    "    def wrapper():\n",
    "        print(\"Before wrapped function\")\n",
    "        func()\n",
    "        print(\"After wrapped function\")\n",
    "    return wrapper\n",
    "\n",
    "# we can replace this\n",
    "def my_function():\n",
    "    print(\"Whee!\")\n",
    "    \n",
    "my_function = my_decorator(my_function)\n",
    "my_function()\n",
    "\n",
    "# with this\n",
    "@my_decorator\n",
    "def my_function():\n",
    "    print(\"Whee!\")\n",
    "```"
   ]
  },
  {
   "cell_type": "markdown",
   "id": "7e1e6b23",
   "metadata": {
    "slideshow": {
     "slide_type": "subslide"
    }
   },
   "source": [
    "### Breakout: Start from the Top\n",
    "\n",
    "Start reading from the top of this page all the way to the end. Complete exercises as you go.\n",
    "\n",
    "- It is fine to skip the **🖉 Structuring Data** exercise and just read it. Bottom line is that you can achieve a lot with built in data types, so don't jump to more advanced techniques if they aren't needed.\n",
    "- A note about the Book/Library exercises: create separate files from the existing ones\n",
    "  1. put a `library.py` under `models/`, and a `test_library.py` under `tests/`\n",
    "  2. or put both of these files under a separate directory `library/` at the top level of the repo"
   ]
  },
  {
   "cell_type": "markdown",
   "id": "b4ef007e",
   "metadata": {
    "slideshow": {
     "slide_type": "notes"
    }
   },
   "source": [
    "- Set learners into breakout rooms for 45 minutes with instructions on slide\n",
    "- Please take the note about Test Driven Development on board as much as possible: write a test for the feature before implementing the feature.\n",
    "<!-- TODO this doesn't seem to be the right place to have a discussion about TDD, but it is where the course brings it up. Think about where to put this in the future. -->\n",
    "- Post-exercise comment: there will probably be the temptation to inherit from the builtin `list` class when implementing `Library`. \n",
    "  - Subclassing from builtin types is generally a bad idea for a host of complex reasons. \n",
    "  - The most easily comprehensible is that by inheriting a builtin type, you inherit a lot of behaviour that you might not intend to have for your new class. \n",
    "  - On the flip side, it is also quite restrictive. Is a Library really just a list? We might decide to add other functionality, like opening hours, later on. How does that data fit into the definition of a list? Well, it doesn't. \n",
    "  - If you really want to inherit from something here, then the better approach is to use the `collections.abc` (abstract base class) module in Python and pick something from there that gets you closer to your desired functionality.\n",
    "- A note about inheritance vs composition is probably worthwhile\n",
    "  - Inheritance tends to be quite abused and IMO should not be used as often as it is; it leads to very complex hierarchies of classes that make it difficult to determine where something is actually defined\n",
    "  - Composition tends to lead to better outcomes in my experience\n",
    "- If anyone asks about Doctor OO implementation, some additional feature ideas\n",
    "  - using the `dataclass` decorator offers a lot of advantages for these classes\n",
    "  - adding an age to patients could be helpful (fairly simple)\n",
    "  - a date range (or start date) for a patient's observations\n",
    "  - a Study class that is a list of Doctors (perhaps too much)\n",
    "  - a CSV reader of patient data (and preferably groups of patients data)"
   ]
  },
  {
   "cell_type": "markdown",
   "id": "9830a50e",
   "metadata": {
    "slideshow": {
     "slide_type": "subslide"
    }
   },
   "source": [
    "### Class vs Static Methods\n",
    "\n",
    "One common use case for class methods is to create alternate _constructors_ for a class:\n",
    "\n",
    "```python\n",
    "class Circle:\n",
    "    def __init__(self, radius):\n",
    "        self.radius = radius\n",
    "\n",
    "    @classmethod\n",
    "    def from_diameter(cls, diameter):\n",
    "        return cls(radius=diameter / 2)\n",
    "```\n",
    "\n",
    "Then, we can create `Circle` objects using either the radius or diameter:\n",
    "\n",
    "```python\n",
    "circle_1 = Circle(radius=1)\n",
    "circle_2 = Circle.from_diameter(radius=2)\n",
    "```"
   ]
  },
  {
   "cell_type": "markdown",
   "id": "bcff090f",
   "metadata": {
    "slideshow": {
     "slide_type": "slide"
    }
   },
   "source": [
    "## ☕ 5 Minute Break ☕"
   ]
  },
  {
   "cell_type": "markdown",
   "id": "4f5c1134",
   "metadata": {
    "slideshow": {
     "slide_type": "slide"
    }
   },
   "source": [
    "## Functional Programming"
   ]
  },
  {
   "cell_type": "markdown",
   "id": "15ea1a76",
   "metadata": {
    "slideshow": {
     "slide_type": "notes"
    }
   },
   "source": [
    "- We have undoubtedly all written functions during our time programming, but this doesn't mean we have done \"functional\" style programming, so let's look at what that involves\n",
    "- The functional style will probably seem quite foreign, and it might not be obvious why it is useful initially\n",
    "  - This is just a taster, but I encourage you to stick with it and read further into the functional style if you are interested\n"
   ]
  },
  {
   "cell_type": "markdown",
   "id": "54d010c3",
   "metadata": {
    "slideshow": {
     "slide_type": "subslide"
    }
   },
   "source": [
    "### Breakout: Start from the Top \"What is a Function?\"\n",
    "\n",
    "Start from the top of this page and read through, completing any exercises along the way. Like with the Book/Library exercise previously, it is recommended to put your new code into separate files/modules."
   ]
  },
  {
   "cell_type": "markdown",
   "id": "19fab4ad",
   "metadata": {
    "slideshow": {
     "slide_type": "notes"
    }
   },
   "source": [
    "- Send learners into breakout rooms for about 40 minutes\n",
    "- Post-exercise comments\n",
    "- Invariably, the question will come up of when to use functional vs OO programming, and are the two mutually exclusive (i.e. do you have to use one or the other)\n",
    "  - as mentioned previously, it is unlikely you will do purely OO or functional programming, especially if you are using Python\n",
    "  - the two are certainly not mutually exclusive\n",
    "- Testability is a huge point that should be emphasised. Even if you aren't following a strict functional style, it is likely that incorporating parts of this style into your code will make it more testable.\n",
    "- Ask if anyone was able to get the `Pool.map` implementation to actually be quicker\n",
    "  - this could be a nice opportunity to talk about profiling, but likely not enough time\n",
    "- Next slide for comment about the `reduce` function"
   ]
  },
  {
   "cell_type": "markdown",
   "id": "132d07f6",
   "metadata": {
    "slideshow": {
     "slide_type": "subslide"
    }
   },
   "source": [
    "#### The `reduce` function\n",
    "\n",
    "A `for` loop under the hood: https://github.com/python/cpython/blob/3.10/Lib/functools.py#L237\n",
    "\n",
    "```python\n",
    "def reduce(function, sequence):\n",
    "    # some argument checking\n",
    "    # ...\n",
    "    it = iterator(sequence)\n",
    "    for element in it:\n",
    "        value = function(value, element)\n",
    "    return value\n",
    "```\n"
   ]
  },
  {
   "cell_type": "markdown",
   "id": "a2ce5283",
   "metadata": {
    "slideshow": {
     "slide_type": "notes"
    }
   },
   "source": [
    "- In Python's case, there is very literally a procedural underpinning to some of its functional attributes\n",
    "  - but this is not the case for all languages"
   ]
  },
  {
   "cell_type": "markdown",
   "id": "6ebea73f",
   "metadata": {
    "slideshow": {
     "slide_type": "subslide"
    }
   },
   "source": [
    "### Alternate Sum of Squares\n",
    "\n",
    "```python\n",
    "from functools import reduce\n",
    "\n",
    "\n",
    "def sum_of_squares(sequence):\n",
    "    squares = [x * x for x in sequence]\n",
    "    return reduce(lambda a, b: a + b, squares)\n",
    "\n",
    "\n",
    "def to_integer(sequence):\n",
    "    return [int(x) for x in sequence]\n",
    "\n",
    "\n",
    "def remove_comments(sequence):\n",
    "    return [x for x in sequence if x[0] != \"#\"]\n",
    "\n",
    "sequence = ['#100', '1', '2', '4']\n",
    "sum_of_squares(to_integer(remove_comments(sequence)))\n",
    "```"
   ]
  },
  {
   "cell_type": "markdown",
   "id": "0aa217d2",
   "metadata": {
    "slideshow": {
     "slide_type": "notes"
    }
   },
   "source": [
    "- This is closer to what actual purely function languages do: they chain together a sequence of function calls\n",
    "- And example of what this looks like in another language can be seen here: https://bielsnohr.github.io/2023/02/18/elm-advent-of-code-2022.html#array-handling"
   ]
  },
  {
   "cell_type": "markdown",
   "id": "9cc57670",
   "metadata": {
    "slideshow": {
     "slide_type": "slide"
    }
   },
   "source": [
    "## ☕ 10 Minute Break ☕"
   ]
  },
  {
   "cell_type": "markdown",
   "id": "9876d27e",
   "metadata": {
    "slideshow": {
     "slide_type": "slide"
    }
   },
   "source": [
    "## Software Design\n",
    "\n",
    "> **Software design** is the process by which an agent creates a specification of a software artifact intended to accomplish goals, using a set of primitive components and subject to constraints. Software design may refer to either \"all the activity involved in conceptualizing, framing, implementing, commissioning, and ultimately modifying complex systems\" or \"the activity following requirements specification and before programming, as ... [in] a stylized software engineering process.\" "
   ]
  },
  {
   "cell_type": "markdown",
   "id": "0b284f23",
   "metadata": {
    "slideshow": {
     "slide_type": "fragment"
    }
   },
   "source": [
    "- Part of the software development process\n",
    "- Be careful: the _process_ of designing software **VERSUS** _a design_ of some software (sometimes called a _design model_)"
   ]
  },
  {
   "cell_type": "markdown",
   "id": "57442f6f",
   "metadata": {
    "slideshow": {
     "slide_type": "notes"
    }
   },
   "source": [
    "- We don't want to get bogged down in definitions, but it is good to know the difference between software design and architecture\n",
    "- Read definition of software design and subsequent points"
   ]
  },
  {
   "cell_type": "markdown",
   "id": "2bff7e4f",
   "metadata": {
    "slideshow": {
     "slide_type": "subslide"
    }
   },
   "source": [
    "> **Software architecture** refers to the fundamental structures of a software system and the discipline of creating such structures and systems. Each structure comprises software elements, relations among them, and properties of both elements and relations. The architecture of a software system is a metaphor, analogous to the architecture of a building. It functions as a blueprint for the system and the developing project, laying out the tasks necessary to be executed by the design teams.\n",
    "\n",
    "- This can be thought of as a particular sub-category of the design model that becomes more important the larger your software project gets"
   ]
  },
  {
   "cell_type": "markdown",
   "id": "c73ae51a",
   "metadata": {
    "slideshow": {
     "slide_type": "notes"
    }
   },
   "source": [
    "- Software architecture tends to be a much higher level view with little detail about specific implementation, focussing rather on abstrated components and how they will interact\n",
    "  - a software degin model will be much lower level and refer to particular modules and classes"
   ]
  },
  {
   "cell_type": "markdown",
   "id": "350f7cb4",
   "metadata": {
    "slideshow": {
     "slide_type": "subslide"
    }
   },
   "source": [
    "### Breakout: Start from the Top\n",
    "\n",
    "Start reading from the top of this page all the way to the end. Complete exercises as you go.\n",
    "\n",
    "For the **🖉 Types of Software** exercise, please take 5 minutes at the beginning of the session to write down answers to the questions in the shared document, and share your answers with your group."
   ]
  },
  {
   "cell_type": "markdown",
   "id": "522a8f37",
   "metadata": {
    "slideshow": {
     "slide_type": "notes"
    }
   },
   "source": [
    "- Send learners into breakout rooms for about 35 minutes"
   ]
  },
  {
   "cell_type": "markdown",
   "id": "29903c07",
   "metadata": {
    "slideshow": {
     "slide_type": "subslide"
    }
   },
   "source": [
    "### Some More Thoughts about Software Design\n",
    "\n",
    "- Requirements collections is the important prerequisite since they determine the design constraints; the questions you ask to collect requirements are similar to the exercise **🖉 Types of Software**, but there can be many more\n",
    "- Draw it out!\n",
    "    - Use diagrams and schematics to try and visualise what a software programme/system will look like\n",
    "    - It doesn't have to be fancy; just having something is far better than nothing\n",
    "    - Seeing the connections between software components can usually help you further refine the design\n",
    "- Design it twice\n",
    "    - The more designs you consider, the higher the chance you will move towards a better one"
   ]
  },
  {
   "cell_type": "markdown",
   "id": "869f0e23",
   "metadata": {
    "slideshow": {
     "slide_type": "notes"
    }
   },
   "source": [
    "- Also, emphasise the point from the course content: it is good to not get too caught up in the details of whether you are implementing an MVC architecture\n",
    "  - this is probably not an architecture that most would see or implement in research software\n",
    "  - but the point of separating the \"model\" from the \"view\" (i.e. plotting) is definitely something worthwhile"
   ]
  },
  {
   "cell_type": "markdown",
   "id": "4191fbd3",
   "metadata": {
    "slideshow": {
     "slide_type": "slide"
    }
   },
   "source": [
    "## Persistence"
   ]
  },
  {
   "cell_type": "markdown",
   "id": "f849ba0c",
   "metadata": {
    "slideshow": {
     "slide_type": "notes"
    }
   },
   "source": [
    "- not much intro needed, other than the fact that reading and writing data is an important step for your code (even if not the most exciting)"
   ]
  },
  {
   "cell_type": "code",
   "execution_count": 1,
   "id": "da9f8129",
   "metadata": {
    "slideshow": {
     "slide_type": "subslide"
    }
   },
   "outputs": [],
   "source": [
    "import json\n",
    "\n",
    "patient = {\"name\": \"Alice\", \"observations\": [1, 6, 8, 0, 5]}\n",
    "with open(\"patient_serialized.json\", \"w\") as fp:\n",
    "    json.dump(patient, fp)"
   ]
  },
  {
   "cell_type": "code",
   "execution_count": 2,
   "id": "3375de80",
   "metadata": {
    "slideshow": {
     "slide_type": "fragment"
    }
   },
   "outputs": [
    {
     "name": "stdout",
     "output_type": "stream",
     "text": [
      "{\"name\": \"Alice\", \"observations\": [1, 6, 8, 0, 5]}"
     ]
    }
   ],
   "source": [
    "! cat patient_serialized.json "
   ]
  },
  {
   "cell_type": "code",
   "execution_count": 3,
   "id": "035dda90",
   "metadata": {
    "slideshow": {
     "slide_type": "fragment"
    }
   },
   "outputs": [
    {
     "name": "stdout",
     "output_type": "stream",
     "text": [
      "{'name': 'Alice', 'observations': [1, 6, 8, 0, 5]}\n"
     ]
    }
   ],
   "source": [
    "with open(\"patient_serialized.json\", \"r\") as fp:\n",
    "    patient_deserialized = json.load(fp)\n",
    "print(patient_deserialized)"
   ]
  },
  {
   "cell_type": "markdown",
   "id": "9df64860",
   "metadata": {
    "slideshow": {
     "slide_type": "subslide"
    }
   },
   "source": [
    "### Breakout: Start from the Top\n",
    "\n",
    "Start reading from the top of this page all the way to the end. Complete exercises as you go."
   ]
  },
  {
   "cell_type": "markdown",
   "id": "91d1b9a1",
   "metadata": {
    "slideshow": {
     "slide_type": "slide"
    }
   },
   "source": [
    "## 🕓 End of Section 3 🕓\n",
    "\n",
    "Please fill out the end-of-section survey!"
   ]
  }
 ],
 "metadata": {
  "celltoolbar": "Slideshow",
  "kernelspec": {
   "display_name": "Python 3 (ipykernel)",
   "language": "python",
   "name": "python3"
  },
  "language_info": {
   "codemirror_mode": {
    "name": "ipython",
    "version": 3
   },
   "file_extension": ".py",
   "mimetype": "text/x-python",
   "name": "python",
   "nbconvert_exporter": "python",
   "pygments_lexer": "ipython3",
   "version": "3.10.6"
  },
  "rise": {
   "theme": "solarized"
  }
 },
 "nbformat": 4,
 "nbformat_minor": 5
}
