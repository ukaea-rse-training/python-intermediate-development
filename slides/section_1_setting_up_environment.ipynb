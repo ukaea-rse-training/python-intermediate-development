{
 "cells": [
  {
   "cell_type": "markdown",
   "id": "fb8411ed",
   "metadata": {
    "slideshow": {
     "slide_type": "slide"
    }
   },
   "source": [
    "# Intermediate Research Software Development in Python"
   ]
  },
  {
   "cell_type": "markdown",
   "id": "e7780fdb",
   "metadata": {
    "slideshow": {
     "slide_type": "notes"
    }
   },
   "source": [
    "## Setup\n",
    "\n",
    "- As participants arrive, ask them about the installation of required software: Bash, Git, a GitHub account, Python with pip and venv\n",
    "- Concurrently, send the link for the collaborative notes document and get them to sign the attendance list\n",
    "- If you are recording the session, notify participants you will be doing so, and start recording\n",
    "  - Breakout rooms are not recorded"
   ]
  },
  {
   "cell_type": "markdown",
   "id": "b625b1af",
   "metadata": {
    "slideshow": {
     "slide_type": "slide"
    }
   },
   "source": [
    "## Setting the Scene\n",
    "\n",
    "Why this course?\n",
    "\n",
    "Have you ever thought:\n",
    "- \"there must be a better way to do this\"\n",
    "- \"this software is getting in the way of my research\"\n",
    "- \"why is it so difficult to get this program to run?\"\n",
    "- \"this code is incomprehensible and really difficult to modify\"\n",
    "- \"I screwed up my Python installation again and need to reinstall my OS\""
   ]
  },
  {
   "cell_type": "markdown",
   "id": "0a528208",
   "metadata": {
    "slideshow": {
     "slide_type": "notes"
    }
   },
   "source": [
    "- why this course and why are you here?\n",
    "  - we have learned programming to do our research: it is a tool and a means to an end\n",
    "  - likely we are mostly self-taught or have taken some intro courses\n",
    "  - but we now find the techniques we have picked up to be inadequate for the software we need to write\n",
    "  - single scripts no longer cut it and we are collaborating with more people, or have users for the software we are producing\n",
    "  - you need some new skills and tools to tackle these problems\n",
    "  \n",
    "- You might have thought at some point (see questions on slide)\n",
    "\n",
    "- If so, then you have come to the right place. The objective of this course is to deal with these struggles you might be facing by teaching some intermediate software engineering skills\n",
    "  - just like maths, statistics, and physics theory, software engineering is a skill you need to continue to develop as a researcher"
   ]
  },
  {
   "cell_type": "markdown",
   "id": "a9817f03",
   "metadata": {
    "slideshow": {
     "slide_type": "subslide"
    }
   },
   "source": [
    "### Intermediate Research Software Development\n",
    "\n",
    "What you will be able to do at the end that should help your work:\n",
    "\n",
    "- restructure existing code and design more robust software from scratch\n",
    "- automate the process of testing and verifying software correctness \n",
    "- support collaborations with others in a way that mimics a typical collaborative software development process\n",
    "- get you ready to distribute your code for use by others"
   ]
  },
  {
   "cell_type": "markdown",
   "id": "c55b47d2",
   "metadata": {
    "slideshow": {
     "slide_type": "subslide"
    }
   },
   "source": [
    "### PSA: This is a Collaborative Learning Session"
   ]
  },
  {
   "cell_type": "markdown",
   "id": "12cd28d5",
   "metadata": {
    "slideshow": {
     "slide_type": "notes"
    }
   },
   "source": [
    "- PSA: This is a Collaborative Learning Session\n",
    "  - this is meant in two ways\n",
    "  - I'll be doing a bit of instructing, but most of the learning will come from the many exercises and other activities that you will do in groups. This is the first aspect of collaboration.\n",
    "  - Secondly, there will naturally be a variety of different backgrounds and levels of experience, and we the instructors and helpers should not be seen as the final authority on these matters. We have valuable experience to share, but so do you. Everyone here can and should contribute to this learning process, and this shouldn't be viewed as knowledge being imparted from your instructors on high; please speak up and get involved in the conversation."
   ]
  },
  {
   "cell_type": "markdown",
   "id": "42124ba0",
   "metadata": {
    "slideshow": {
     "slide_type": "subslide"
    }
   },
   "source": [
    "### Tools\n",
    "\n",
    "- Python\n",
    "- Integrated Development Environment: PyCharm or VS Code\n",
    "- `pip` and `venv`\n",
    "- GitHub"
   ]
  },
  {
   "cell_type": "markdown",
   "id": "466d0c36",
   "metadata": {
    "slideshow": {
     "slide_type": "notes"
    }
   },
   "source": [
    "- This course has necessarily made some decisions about the tools used to demonstrate the concepts being taught\n",
    "  - Python is used as a fairly ubiquitous and syntactically easy language; however, the point needs to be clear that this isn't a course about Python; the course is about software engineering, and it is using Python as the playground to demonstrate the skills and concepts that should be valuable independent of the domain and language\n",
    "  - to this end, I will be trying to draw connections with other languages and development scenarios when applicable since I know Python isn't necessarily the main development language for everyone at UKAEA\n",
    "  - Learners should have already been notified about the IDE selection and installation. If the instructor has decided to allow different editors, reiterate any caveats (e.g. happy for you to use these editors, but no guarantee that we can help you if you are stuck). At an intermediate level, it is likely learners already have exposure to a preferred IDE, so they can shoulder more of the responsibility for getting that to work.\n",
    "  - GitHub is ubiquitous in software development, and a lot of research code ends up there. Other platforms are similar and so whatever is learnt here will be applicable.\n",
    "- in the long run, you will encounter many more tools than those shown here, and you will form your own preferences; that is fine and we are in no way suggesting these are the definitive tools that should be used by any researcher who codes"
   ]
  },
  {
   "cell_type": "markdown",
   "id": "567b407e",
   "metadata": {
    "slideshow": {
     "slide_type": "subslide"
    }
   },
   "source": [
    "### Rules of Engagement\n",
    "\n",
    "- Monitoring your status\n",
    "  - self reporting\n",
    "  - sporadic polls\n",
    "- Questions at any time by raising hand ✋\n",
    "- Some lecturing by instructor combined with independent study, exercises, and group activities\n",
    "- Take a break whenever you need it ☕"
   ]
  },
  {
   "cell_type": "markdown",
   "id": "55c8a8f7",
   "metadata": {
    "slideshow": {
     "slide_type": "notes"
    }
   },
   "source": [
    "- Rules of engagement\n",
    "- Monitoring you status\n",
    "  - We want to know how you are doing, and the more information we have about your progress, the better we can tailor the course to you and make it more valuable.\n",
    "  - There are two main ways to do this.\n",
    "  - Self reporting: Please use the green check mark and red 'x' in Zoom (or stickies if in person) to indicate your status with lessons or the current content; this is a more subtle way of indicating that you need help without interrupting the instructor. The helpers will be keeping an eye on the list of participants and their statuses. Can everyone please check now that they can put the green check mark up.\n",
    "  - Polls within Zoom will also be used to check how you are getting on. Please fill these in and don't ignore them! In person, it is easier to see how people are getting on. \n",
    "- Throughout the course, please feel free to interrupt at any point with a question (preferably by raising hand if in person or using the raise hand feature in Zoom or relevant analogue).\n",
    "- Many portions of the course will involve breaking into separate groups to do work. Most of this will be independent work, but there are a few group tasks. There will usually be a helper in your room if you need assistance, but again, they are not all-knowing, so please help other participants if you think you can help.\n",
    "  - There will no doubt be a range of experiences and people moving at different paces in these groups. Please be mindful of that. If you find there is too much chatter and you can't focus on getting things done, feel free to mute audio.\n",
    "  - If you fall behind on the independent exercises, don't worry and prioritise any group work or discussion at the end of a breakout session. You can catch up between sessions."
   ]
  },
  {
   "cell_type": "markdown",
   "id": "5ebdccf5",
   "metadata": {
    "slideshow": {
     "slide_type": "subslide"
    }
   },
   "source": [
    "## Content Overview\n",
    "\n",
    "![](../fig/course-overview.png)"
   ]
  },
  {
   "cell_type": "markdown",
   "id": "d20e17e6",
   "metadata": {
    "slideshow": {
     "slide_type": "notes"
    }
   },
   "source": [
    "There are four main sections of the course, each roughly to be covered in one of the four sessions.\n",
    "\n",
    "1. Setting up Software Environment: **PyCharm or VSCode** for editing, testing and debugging, **GitHub** for collaborative development, **virtual environments** for dependency isolation, and **Python code style**.\n",
    "2. Verifying Software Correctness at Scale: how to set up a **test framework** and automate and scale testing with **Continuous Integration (CI)**\n",
    "3. Designing Software Architecture: an exploration of different **software design paradigms** and their advantages and disadvantages\n",
    "4. Managing and Improving Software: learn how to **collaborate** on code through a group project covering **issue tracking** and **software support**"
   ]
  },
  {
   "cell_type": "markdown",
   "id": "028b8c1f",
   "metadata": {
    "slideshow": {
     "slide_type": "slide"
    }
   },
   "source": [
    "## Section 1: Environment For Collaborative Code Development\n",
    "\n",
    "![](../fig/section1-overview.png)"
   ]
  },
  {
   "cell_type": "markdown",
   "id": "8e803f41",
   "metadata": {
    "slideshow": {
     "slide_type": "notes"
    }
   },
   "source": [
    "- the overall objective for this section is to get set up with the _tools_ for collaborative code development, and of course there are lots of decisions to make\n",
    "- the recommendations are opinionated but backed by experience\n",
    "\n",
    "1. Command Line & Virtual Development Environment: use command line to run our code and then the Python tools `venv` and `pip` to manage dependencies and isolate our project\n",
    "2. Integrated Development Environment (IDE): course content supports **PyCharm** directly, but there is now additional material to support use of **VSCode**\n",
    "  - Show the \"Extras\" tab of the course material website and the VSCode information under that\n",
    "3. GitHub and Git development workflows\n",
    "4. Python coding style: PEP8\n",
    "\n",
    "- But first, we will get an overview of the example project that we will be working on throughout the course and its structure."
   ]
  },
  {
   "cell_type": "markdown",
   "id": "a9217822",
   "metadata": {
    "slideshow": {
     "slide_type": "subslide"
    }
   },
   "source": [
    "## Introduction to Our Project and Architecture\n",
    "\n",
    "The \"patient inflammation\" example from the Novice Software Carpentry Python Lesson.\n",
    "\n",
    "<center><img src='../fig/inflammation-dataset.svg' width=\"50%\"></center>"
   ]
  },
  {
   "cell_type": "markdown",
   "id": "a1a3eea8",
   "metadata": {
    "slideshow": {
     "slide_type": "notes"
    }
   },
   "source": [
    "- Give an introduction to the \"patient inflammation project\"\n",
    "  - the software project studies inflammation in patients who have been given a new treatment for arthritis and re-uses the inflammation dataset from the novice Software Carpentry Python lesson\n",
    "  - The dataset contains information for 60 patients, who had their inflammation levels recorded for 40 days, so a 2D dataset like shown in the figure\n",
    "- The analysis is incomplete and there are some errors that you will need to correct\n",
    "- First, we need to get the project, so go to the course website and follow the instructions there for copying and then cloning the repository locally on your machine to work on\n",
    "  - The link for this episode is in the shared document as the section header \"Introduction to Our Project and Architecture\"\n",
    "  - Complete the lesson \"Obtain the Software Project Locally\" ~ 2-3 minutes\n",
    "  - please let us know when you are done by taking off your status now and then setting it to the green check at the end"
   ]
  },
  {
   "cell_type": "markdown",
   "id": "e8bce351",
   "metadata": {
    "slideshow": {
     "slide_type": "subslide"
    }
   },
   "source": [
    "### Exercise: 🖉 Obtain the Software Project Locally"
   ]
  },
  {
   "cell_type": "markdown",
   "id": "bb5f3f8e",
   "metadata": {
    "slideshow": {
     "slide_type": "subslide"
    }
   },
   "source": [
    "### Project Structure\n",
    "\n",
    "<pre><font color=\"#268BD2\"><b>.</b></font>\n",
    "├── <font color=\"#268BD2\"><b>data</b></font>/\n",
    "│   └── inflammation-*.csv\n",
    "├── <font color=\"#268BD2\"><b>inflammation</b></font>/\n",
    "│   ├── models.py\n",
    "│   └── views.py\n",
    "├── inflammation-analysis.py\n",
    "├── README.md\n",
    "└── <font color=\"#268BD2\"><b>tests</b></font>/\n",
    "    ├── test_models.py\n",
    "    └── test_patient.py\n",
    "</pre>"
   ]
  },
  {
   "cell_type": "markdown",
   "id": "7fb282c0",
   "metadata": {
    "slideshow": {
     "slide_type": "notes"
    }
   },
   "source": [
    "- Let's take a look at the project structure\n",
    "  - I like to use `tree` (on Ubuntu installable through apt-get, not sure if it comes with Git for Windows)\n",
    "  - With this we see:\n",
    "  - README file (that typically describes the project, its usage, installation, authors and how to contribute),\n",
    "  - Python script `inflammation-analysis.py` provides the main entry point into the application\n",
    "  - three directories - inflammation, data and tests\n",
    "  - inflammation directory has two other Python scripts that we will look at more later\n",
    "  - data directory has the data we will be analysing in csv files\n",
    "  - tests directory has tests for our Python programs that we will be adding to and correcting\n",
    "  - **Important Point**: the structure of this project is not arbitrary\n",
    "    - a difference between novice and intermediate softare development is that at the intermediate level the structure of the project should be planned in advance, and this includes the structure of abstract entities like software components and how they interact\n",
    "    - in contrast, a novice will make this structure up as they go along (nothing wrong with that, it is part of learning, but at some point you need to stop doing that and have a think about these things in advance before you start a project).\n",
    "    - this is probably an appropriate point to link to the Python Cookiecutter project template: https://github.com/ukaea/scientific-python-cookiecutter (navigate to this page in shared browser screen)"
   ]
  },
  {
   "cell_type": "markdown",
   "id": "96dd1e85",
   "metadata": {
    "slideshow": {
     "slide_type": "subslide"
    }
   },
   "source": [
    "### Exercise: 🖉 Have a Peak at the Data\n",
    "\n",
    "Please post your answers in the shared document."
   ]
  },
  {
   "cell_type": "markdown",
   "id": "8723173c",
   "metadata": {
    "slideshow": {
     "slide_type": "notes"
    }
   },
   "source": [
    "- This should be quick, 1-2 minutes, no need to check on status.\n",
    "- Demonstrate answer from command line using preferred command: `head -n 5 data/inflammation-01.csv`\n",
    "- Explain that each line (row) is indexed by patient, and each comma delimited field (i.e. column) is indexed by the day"
   ]
  },
  {
   "cell_type": "markdown",
   "id": "97e13378",
   "metadata": {
    "slideshow": {
     "slide_type": "subslide"
    }
   },
   "source": [
    "### Software Architecture\n",
    "\n",
    "**Theory covered later in Section 3: Software Design**"
   ]
  },
  {
   "cell_type": "markdown",
   "id": "c5d89dcb",
   "metadata": {
    "slideshow": {
     "slide_type": "notes"
    }
   },
   "source": [
    "- _Skip over the higher-level discussion of architecture because it is a bit out of place here; it is covered anyway in the later Section 3: Software Design_"
   ]
  },
  {
   "cell_type": "markdown",
   "id": "d5b0b651",
   "metadata": {
    "slideshow": {
     "slide_type": "subslide"
    }
   },
   "source": [
    "### Model-View-Adapter (MVA)\n",
    "\n",
    "<center><img src='../fig/mva-diagram.png' width=\"50%\"></center>\n",
    "\n",
    "By Soroush Khanlou, https://khanlou.com/2014/03/model-view-whatever/"
   ]
  },
  {
   "cell_type": "markdown",
   "id": "b646fbdc",
   "metadata": {
    "slideshow": {
     "slide_type": "notes"
    }
   },
   "source": [
    "- Model represents the data used by a program and also contains operations/rules for manipulating and changing the data in the model. This may be a database, a file, a single data object or a series of objects. For our example project, the Model is embodied in the `inflammation/model.py` module, which contains the patient data in appropriate data structures along with the methods to manipulate that patient data to get useful statistics. Show this file from command line using `tree -L 2`.\n",
    "\n",
    "- View is the means of displaying data to users/clients within an application (i.e. provides visualisation of the state of the model) **and** collecting user input in the case of a Graphical User Interface (GUI). However, sometimes the line can get a bit blurred, and the Adapter might collect user input directly (which is actually the case for our example project). For our example project, the View is represented by the module `inflammation/view.py` and it contains the routines to produce graphs of our patient data and the results from analysis. Show this file from command line.\n",
    "\n",
    "- Adapter manipulates both the Model and the View. Usually, it accepts input from the View and performs the corresponding action on the Model (changing the state of the model) and then updates the View accordingly. In our simple example project, the file `inflammation-analysis.py` is the Adapter, and it actually does handle user input so it not quite fully abiding by MVA, and actually shares features with another architectural pattern called Model-View-Controller\n",
    "\n",
    "- Some final words on architecture and these particular patterns:\n",
    "  - don't get too caught up determining exactly what functionality should be the responsibility of each component\n",
    "  - the act of splitting things up and thinking about how they will interact through interfaces is where you get the most value\n",
    "  - it is likely you were already doing this in an informal fashion, but good to think about it more explicitly **and try to record your design in some appropriate format**"
   ]
  },
  {
   "cell_type": "markdown",
   "id": "1c83fab3",
   "metadata": {
    "slideshow": {
     "slide_type": "slide"
    }
   },
   "source": [
    "## ☕ 5 Minute Break ☕"
   ]
  },
  {
   "cell_type": "markdown",
   "id": "86a110f8",
   "metadata": {
    "slideshow": {
     "slide_type": "slide"
    }
   },
   "source": [
    "## Virtual Environments For Software Development\n"
   ]
  },
  {
   "cell_type": "markdown",
   "id": "f1baab59",
   "metadata": {
    "slideshow": {
     "slide_type": "notes"
    }
   },
   "source": [
    "- Switch to terminal and the directory of the example project at its initial commit\n",
    "  - Make sure you don't have a virtual environment activated, and preferably no numpy or matplotlib in your system python installation. If you do, create a fresh virtual environment that doesn't have these packages.\n",
    "- Try to run the analysis script from the command line: `python3 inflammation-analysis.py`\n",
    "  - If you are in a clean Python installation, this should throw a `ModuleNotFoundError` which proves we have some external dependencies that are not installed and we need to get through a package manager\n",
    "  - Depending on what learners have in their `PYTHONPATH` and site packages for their current default environment, they may or may not have success with this command\n",
    "  - Take a look at the top of the views file to see the other dependencies: `head inflammation/views.py`\n",
    "- Before jumping to install matplotlib and numpy, it is worth a thought about other projects we might be currently be working on or in the future\n",
    "  - what if they have a requirement for a different version of numpy or matplotlib? or a different python version? how are you going to share your project with collaborators and make sure they have the correct dependencies?\n",
    "  - in general, each project is going to have its own unique configuration and set of dependencies\n",
    "  - to solve this in python, we set up a virtual environment for each project, containing a set of libraries that won't interact with others on the system\n",
    "  - it can be thought of like an isolated partial installation of Python specifically for your project"
   ]
  },
  {
   "cell_type": "markdown",
   "id": "64658958",
   "metadata": {
    "slideshow": {
     "slide_type": "subslide"
    }
   },
   "source": [
    "### Tools for Dependency Management\n",
    "\n",
    "- For creating and managing virtual environments: `venv`\n",
    "- For installing dependencies in those environments: `pip`"
   ]
  },
  {
   "cell_type": "markdown",
   "id": "3439af1a",
   "metadata": {
    "slideshow": {
     "slide_type": "notes"
    }
   },
   "source": [
    "- `venv` comes standard in `Python 3.3+` and is the main advantage for its use\n",
    "  - however, important thing to note with `venv` is that you can only ever use the system version of python with it (e.g. if you have Python 3.8 on your system, you can only ever create an virtual environment with Python 3.8). Most of the time this isn't a problem, but if you are in dire need of a particular Python version, then there are other tools that can do that job (next slide).\n",
    "  - Another consequence is that if there is an update of your system installation then your virtual environment will stop working, and you will need to get rid of it and create a new one (more on that later)\n",
    "- `pip` stands for \"Pip Installs Packages\" and it queries the Python Package Index (PyPI) to install dependencies\n",
    "  - it is ubiquitous and compatible with all Python distributions"
   ]
  },
  {
   "cell_type": "markdown",
   "id": "63843c2a",
   "metadata": {
    "slideshow": {
     "slide_type": "subslide"
    }
   },
   "source": [
    "### Lots of other tools...\n",
    "\n",
    "<center><img src='../fig/python-environment-hell.png' width=\"40%\"></center>"
   ]
  },
  {
   "cell_type": "markdown",
   "id": "0b362960",
   "metadata": {
    "slideshow": {
     "slide_type": "notes"
    }
   },
   "source": [
    "- there are plenty of other tools out there that manage Python environments, and it can become messy\n",
    "- worth a note is Anaconda which supplies `conda`\n",
    "  - `conda` is both a package manager and virtual environment manager, and it can install non-Python packages\n",
    "  - this has made it popular in a number of scientific settings; however, due to licensing ambiguity, we advise against the Anaconda distributed version\n",
    "  - there is an open source fork called `miniforge` that you might consider if your project has a lot of non-Python dependencies"
   ]
  },
  {
   "cell_type": "markdown",
   "id": "977e550e",
   "metadata": {
    "slideshow": {
     "slide_type": "subslide"
    }
   },
   "source": [
    "### Breakout Exercise: Creating a `venv` Environment\n",
    "\n",
    "Read through and follow along until the end of the episode page."
   ]
  },
  {
   "cell_type": "markdown",
   "id": "0c6ac37c",
   "metadata": {
    "slideshow": {
     "slide_type": "notes"
    }
   },
   "source": [
    "- send into breakout rooms to do work and read for about 15 minutes\n",
    "- remember they should clear their status and use the green check when they are done\n",
    "- Checks at the end of the breakout\n",
    "  1. Did everyone get the error when trying to run the `inflammation-analysis.py` script?\n",
    "  2. A comment about exporting/importing an environment\n",
    "      - I think there are actually two scenarios here:\n",
    "      1. If you are providing a python application (i.e. building and deploying something) or doing a project that is a scientific analysis, then it is fine to pin your dependencies as detailed here in a `requirements.txt`\n",
    "      2. If you are providing a reusable library (i.e. one that might be called from someone else's code or another library) then pinning can be overly restrictive and cause issues for package managers, and it is considered bad practice to pin your dependencies like this\n",
    "        - Instead, you should specify loose dependency requirements in the `install_requires=[...]` metadata of `setup.py`. A full setup.py project is outside the scope of this course, but there are many good resources on this.\n",
    "        - There are some links in the shared document that discuss this further\n",
    "        - <https://packaging.python.org/en/latest/discussions/install-requires-vs-requirements/>\n",
    "        - <https://caremad.io/posts/2013/07/setup-vs-requirement/>\n",
    "        - and if you want a template for Python projects that keeps `requirements.txt` and `install_requires` synced: <https://github.com/ukaea/scientific-python-cookiecutter>\n",
    "      - In general, I would recommend against pinning unless necessary"
   ]
  },
  {
   "cell_type": "markdown",
   "id": "dca5f4b1",
   "metadata": {
    "slideshow": {
     "slide_type": "subslide"
    }
   },
   "source": [
    "### Need to recreate your virtual environment?\n",
    "\n",
    "```bash\n",
    "rm -r venv/\n",
    "python3 -m venv venv\n",
    "source venv/bin/activate\n",
    "pip install <your_dependencies> \n",
    "# or\n",
    "pip install -r requirements.txt  # great reason to have this file\n",
    "\n",
    "```"
   ]
  },
  {
   "cell_type": "markdown",
   "id": "d37977cf",
   "metadata": {
    "slideshow": {
     "slide_type": "notes"
    }
   },
   "source": [
    "- this should be in the shared document as well"
   ]
  },
  {
   "cell_type": "markdown",
   "id": "e95acf85",
   "metadata": {
    "slideshow": {
     "slide_type": "subslide"
    }
   },
   "source": [
    "### Dependency Management in Other Languages\n",
    "\n",
    "- Each will have its own way of handling this, and it will also depend on _where_ you are doing your development\n",
    "- The _coverall_ option these days is to develop in a Docker container (or relevant analogue)\n",
    "  - The `Dockerfile` codifies the dependencies and setup for your project\n",
    "- If you are on a cluster, then you might be familiar with the `module` command\n",
    "  - This allows you to get different versions of libraries without installing them yourself (and indeed, because you don't have permission to install them)\n",
    "  - Spack and Easy Build are also quite popular package management tools for HPC; Spack has virtual environments!\n",
    "- C++\n",
    "  - CMake is an ubiquitous build tool and overlaps with dependency management\n",
    "  - Conan is a specific package manager for C++\n",
    "  - Spack also a good option\n",
    "- Fortran\n",
    "  - Very nascent creation of the Fortran package manager (fpm) and probably more for modern Fortran\n",
    "  - Spack again"
   ]
  },
  {
   "cell_type": "markdown",
   "id": "804c8558",
   "metadata": {
    "slideshow": {
     "slide_type": "slide"
    }
   },
   "source": [
    "## Integrated Development Environments\n",
    "\n",
    "<table><tr>\n",
    "    <td>\n",
    "        <img src='../fig/PyCharm_Icon.png' width=\"100%\">\n",
    "    </td>\n",
    "    <td>\n",
    "        <img src='../fig/Visual_Studio_Code_1.35_icon.png' width=\"100%\">\n",
    "    </td>\n",
    "</tr></table>"
   ]
  },
  {
   "cell_type": "markdown",
   "id": "86faec44",
   "metadata": {
    "slideshow": {
     "slide_type": "notes"
    }
   },
   "source": [
    "- Most of us probably started out programming with a simple text editor and ran our programs from the command line with a compiler or interpreter\n",
    "  - This is fine to start off, but as our projects become more complex with more files and configurations, it natural that the tools we use to develop need to evolve as well\n",
    "  - Enter the Integrated Development Environment (IDE)\n",
    "- Preference for Code Editors and IDEs is one of the more contentious and strongly felt topics among software developers, but the bottom line is that if a tool works for you and helps you be productive, then it is absolutely fine to use that tool\n",
    "  - But again, for the practicalities of this course, the decision to support two editors, PyCharm and VSCode, has been made\n",
    "  - If you are comfortable enough in another IDE or code editor to get the functionality demonstrated in the content below, then please feel free to use that tool here, but this is a disclaimer that we cannot promise to resolve any issues you have, and if these issues are holding the group up then we will need to move on\n",
    "  - For VSCode, please consult the \"Extras\" content of the course web page and find the analogous functionality described there; if you are having trouble getting something to work, please ask for help!"
   ]
  },
  {
   "cell_type": "markdown",
   "id": "788be096",
   "metadata": {
    "slideshow": {
     "slide_type": "subslide"
    }
   },
   "source": [
    "### Breakout Exercise: Using the PyCharm IDE\n",
    "\n",
    "Start from this heading and continue to the end of the page."
   ]
  },
  {
   "cell_type": "markdown",
   "id": "5b2e42bd",
   "metadata": {
    "slideshow": {
     "slide_type": "notes"
    }
   },
   "source": [
    "- Send learners into breakout rooms to read through and try out content from \"Using the PyCharm IDE\" (~ 30mins, but could be less, so poll helpers after 20 minutes to get a status check from the rooms)\n",
    "  - Remind to use status green check when done (or red x if having trouble)\n",
    "  - Encourage learners to try out the features that are being discussed and don't worry about making modifications to their code since it is under version control it will be easy to reset any changes\n",
    "  - Reinforce that we won't be using the version control interface of PyCharm, but it is a perfectly useable feature, and again this comes down to preference"
   ]
  },
  {
   "cell_type": "markdown",
   "id": "8da58fe5",
   "metadata": {
    "slideshow": {
     "slide_type": "slide"
    }
   },
   "source": [
    "## ☕ 15 Minute Break ☕"
   ]
  },
  {
   "cell_type": "markdown",
   "id": "50a0ffbf",
   "metadata": {
    "slideshow": {
     "slide_type": "slide"
    }
   },
   "source": [
    "## Collaborative Software Development Using Git and GitHub\n",
    "\n",
    "</br>\n",
    "</br>\n",
    "<center><img src='../fig/git-lifecycle.png'></center>\n"
   ]
  },
  {
   "cell_type": "markdown",
   "id": "25f0bdb5",
   "metadata": {
    "slideshow": {
     "slide_type": "notes"
    }
   },
   "source": [
    "- Git is the de facto tool for version control in software development\n",
    "  - we should all be familiar with the time machine magic of git\n",
    "  - however, to call it just a version control tool misses the fact that what git really does is facilitate non-linear and distributed development collaboration on software projects\n",
    "- Walk through this image as a Git refresher\n",
    "- Do a poll to see if everyone is comfortable with all of the operations and terminology in that diagram\n",
    "  - Ask any uncertain terms to be put into the chat or shared document\n",
    "  - Go into more depth on the terms that come up"
   ]
  },
  {
   "cell_type": "markdown",
   "id": "f313e8ad",
   "metadata": {
    "slideshow": {
     "slide_type": "subslide"
    }
   },
   "source": [
    "### Breakout Exercise: Checking in Changes to Our Project\n",
    "\n",
    "Start from this heading and go until the \"Git Branches\" heading."
   ]
  },
  {
   "cell_type": "markdown",
   "id": "11be5ff0",
   "metadata": {
    "slideshow": {
     "slide_type": "notes"
    }
   },
   "source": [
    "- Get learners to independently go through the section \"Checking-in Changes to Our Project\" (~ 10 minutes)\n",
    "  - stop before the \"Git Branches\" Section\n",
    "  - note that SSH keys are also an equally valid (and now equally convenient) form of authentication with GitHub\n",
    "  - for the token, this seems to be the only resource that is actually needed: https://www.edgoad.com/2021/02/using-personal-access-tokens-with-git-and-github.html (put this in shared document)\n",
    "  - Remind learners that they will need to copy the access token somewhere on their computer; if they use a password manager, consider making a new entry for this token; also, there are instructions to cache their token with the git cli, and that will make this more convenient since they will not need to enter the token with every git operation that communicates with GitHub"
   ]
  },
  {
   "cell_type": "markdown",
   "id": "572be8b1",
   "metadata": {
    "slideshow": {
     "slide_type": "subslide"
    }
   },
   "source": [
    "### Git Branches\n",
    "\n",
    "<center><img src=\"../fig/git-feature-branch.png\"></center>"
   ]
  },
  {
   "cell_type": "markdown",
   "id": "a3370700",
   "metadata": {
    "slideshow": {
     "slide_type": "notes"
    }
   },
   "source": [
    "- Git branches\n",
    "  - branches are actually just a pointer to a commit, and that commit _can_ (but doesn't have to) define a distinct or divergent commit history of our main branch\n",
    "  - this allows developers to take \"copies\" of the code and make their own modifications without making changes to original nor affecting the commit history of the main branch (so others won't see the changes there until they are merged)\n",
    "  - this is the main aspect of git that facilitates collaboration\n",
    "  - talk through the image\n",
    "  - the best practice is to use a new branch for each separate and self-contained unit/piece of work you want to add to the project. This unit of work is also often called a feature and the branch where you develop it is called a feature branch. Each feature branch should have its own meaningful name - indicating its purpose (e.g. “issue23-fix”). If we keep making changes and pushing them directly to main branch on GitHub, then anyone who downloads our software from there will get all of our work in progress - whether or not it’s ready to use! So, working on a separate branch for each feature you are adding is good for several reasons:\n",
    "    - it enables the main branch to remain stable while you and the team explore and test the new code on a feature branch,\n",
    "    - it enables you to keep the untested and not-yet-functional feature branch code under version control and backed up,\n",
    "    - you and other team members may work on several features at the same time independently from one another,\n",
    "    - if you decide that the feature is not working or is no longer needed - you can easily and safely discard that branch without affecting the rest of the code.\n",
    "- Something missing from this section is a mention that a multi-person project, even if not external facing or with no users other than the developers, should have some record or agreement of how branching will work, and some document telling potential contributors how they can submit contributions through pull requests, usually in a `CONTRIBUTING.md` file.\n",
    "  - e.g. contributors fork you project, then work in their own feature branch, and when tested, they submit a PR to the *develop* branch of the upstream project"
   ]
  },
  {
   "cell_type": "markdown",
   "id": "2b370aa6",
   "metadata": {
    "slideshow": {
     "slide_type": "subslide"
    }
   },
   "source": [
    "### Breakout Exercise: 🖉 Creating Branches\n",
    "\n",
    "Continue from this heading to the end of the page."
   ]
  },
  {
   "cell_type": "markdown",
   "id": "7a916ae8",
   "metadata": {
    "slideshow": {
     "slide_type": "notes"
    }
   },
   "source": [
    "- Get learners to go through the remainder of the content from \"Creating Branches\" onwards (~ 15 minutes)"
   ]
  },
  {
   "cell_type": "markdown",
   "id": "4ecd4158",
   "metadata": {
    "slideshow": {
     "slide_type": "slide"
    }
   },
   "source": [
    "## ☕ 5 Minute Break ☕"
   ]
  },
  {
   "cell_type": "markdown",
   "id": "697e7fff",
   "metadata": {
    "slideshow": {
     "slide_type": "slide"
    }
   },
   "source": [
    "## Python Coding Conventions\n",
    "\n",
    "> \"Any fool can write code that a computer can understand. Good programmers write code that humans can understand.” — Martin Fowler\n",
    "\n",
    "- Coding _style_ is one factor that makes our code more understandable\n",
    "- Consistency is key"
   ]
  },
  {
   "cell_type": "markdown",
   "id": "9d198782",
   "metadata": {
    "slideshow": {
     "slide_type": "notes"
    }
   },
   "source": [
    "- one of the main features of whether code is understandable is whether it follows a consistent *style*\n",
    "- *style* encompasses but is not limited to\n",
    "  - cleanly and consistently formatted\n",
    "  - descriptive comments and docstrings\n",
    "  - descriptive names for variables, functions, classes, and modules\n",
    "- the style you use for your code will vary depending on the language and what your team has agreed upon\n",
    "  - in order to help with implementing a consistent style, style guides or sets of conventions are used\n",
    "  - these can be agreed upon by colleagues or communities\n",
    "  - the important point is this: make sure whatever sytle you choose that it is consistent **within** a project, and if possible also across related projects"
   ]
  },
  {
   "cell_type": "markdown",
   "id": "f7e5df45",
   "metadata": {
    "slideshow": {
     "slide_type": "subslide"
    }
   },
   "source": [
    "### Style in Different Languages and Tools\n",
    "\n",
    "- Python: PEP8\n",
    "  - `black`, `flake8`, `pylint`, etc...\n",
    "- C++: no language-wide consensus\n",
    "  - `clang-format` is widely used for enforcing formatting, and there are built-in presets for existing conventions followed by Google, LLVM, etc. Project specific settings made in a `.clang-format` file.\n",
    "  - `cpplint` is another option\n",
    "- Fortran: no language-wide consensus\n",
    "  - some tools for VSCode\n",
    "  - recent revival and there is a push towards modernising (best practices on new website)"
   ]
  },
  {
   "cell_type": "markdown",
   "id": "93de7a62",
   "metadata": {
    "slideshow": {
     "slide_type": "notes"
    }
   },
   "source": [
    "- Unless you have particular requirements, it is best to go with a sytle guide that has the majority consensus for a particular language (albeit sometimes this won't exist, so choose what seems best)\n",
    "  - In Python, this is PEP8\n",
    "    - In PyCharm, adherance to PEP8 will automatically be checked and violations flagged for fixing (demonstrate this live)\n",
    "  - It is worth mentioning that at a project level, not everyone will be using the same IDE, so it is better to use an independent tool called a linter that will enforce these style requirements\n",
    "    - `black` is a popular but harsh and opinionated tool that can take some getting used to\n",
    "    - `flake8` and `pylint` a bit more conventional -> PyCharm can be modified to use one of these directly (outside of the scope of this course)\n",
    "  - C++ doesn't have a language-wide convention for style\n",
    "    - [`clang-format`](https://clang.llvm.org/docs/ClangFormat.html) is widely used for enforcing formatting, and there are [built-in presets](https://clang.llvm.org/docs/ClangFormatStyleOptions.html#configurable-format-style-options) for existing conventions followed by Google, LLVM, etc. Project specific settings made in a `.clang-format` file.\n",
    "    - our guide on C++ for VSCode recommends cpplint: https://intranet.ccfe.ac.uk/software/guides/vscode-cpp.html\n",
    "    - Some other useful resources that cover a broader scope than just style and formatting are [Google's C++ Style Guide](https://google.github.io/styleguide/cppguide.html#Formatting) and the [C++ Core Guidelines by Bjarne Stroustrup (the creator of C++)](https://github.com/isocpp/CppCoreGuidelines/blob/master/CppCoreGuidelines.md)\n",
    "  - Fortran also doesn't have a language-wide convention\n",
    "    - we have a great guide on tooling in VSCode: https://intranet.ccfe.ac.uk/software/guides/vscode-fortran.html\n",
    "    - this is a good online resource: https://fortran-lang.org/learn/best_practices"
   ]
  },
  {
   "cell_type": "markdown",
   "id": "81987c01",
   "metadata": {
    "slideshow": {
     "slide_type": "subslide"
    }
   },
   "source": [
    "### Breakout Exercise: 🖉 Indentation\n",
    "\n",
    "Start from this section heading and go to the end of the page."
   ]
  },
  {
   "cell_type": "markdown",
   "id": "4b869b33",
   "metadata": {
    "slideshow": {
     "slide_type": "notes"
    }
   },
   "source": [
    "- Split learners into breakout rooms and get them to work through content starting from \"Indentation\" section (~ 30 minutes) going to the end of the page\n",
    "  - A lot of these checks for formatting can now be done automatically with your IDE or linters, so don't spend too long absorbing them. It is good to be aware why rules are being applied, but the details of implementation are less important.\n",
    "  - poll/status check at the end\n",
    "- Some comments after the exercises\n",
    "  - There are many different docstring formats, and I tend to not like the Sphynx default very much. Google or Numpy style docstrings much more readable.\n",
    "  - For the exercise to improve the docstrings, no mention is made of the fact that the module docstring should include a list of the functions in the module. This is another valid improvement. (Advance to next slide to see this)"
   ]
  },
  {
   "cell_type": "markdown",
   "id": "4472f7e6",
   "metadata": {
    "slideshow": {
     "slide_type": "fragment"
    }
   },
   "source": [
    "```python\n",
    "\"\"\"\n",
    "Functions:\n",
    "    load_csv - Load a Numpy array from a CSV file\n",
    "    daily_mean - Calculate the daily mean of a 2D inflammation data array\n",
    "    daily_max - Calculate the daily max of a 2D inflammation data array\n",
    "    daily_min - Calculate the daily min of a 2D inflammation data array\n",
    "\"\"\"\n",
    "```"
   ]
  },
  {
   "cell_type": "markdown",
   "id": "def0e39b",
   "metadata": {
    "slideshow": {
     "slide_type": "slide"
    }
   },
   "source": [
    "## 🕓 End of Section 1 🕓\n",
    "\n",
    "Please fill out the end-of-section survey!"
   ]
  }
 ],
 "metadata": {
  "celltoolbar": "Slideshow",
  "kernelspec": {
   "display_name": "Python 3 (ipykernel)",
   "language": "python",
   "name": "python3"
  },
  "language_info": {
   "codemirror_mode": {
    "name": "ipython",
    "version": 3
   },
   "file_extension": ".py",
   "mimetype": "text/x-python",
   "name": "python",
   "nbconvert_exporter": "python",
   "pygments_lexer": "ipython3",
   "version": "3.10.6"
  },
  "rise": {
   "theme": "solarized"
  }
 },
 "nbformat": 4,
 "nbformat_minor": 5
}
